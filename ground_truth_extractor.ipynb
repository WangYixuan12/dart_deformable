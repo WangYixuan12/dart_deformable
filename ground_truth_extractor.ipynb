{
 "cells": [
  {
   "cell_type": "code",
   "execution_count": 1,
   "id": "45f1c8f1",
   "metadata": {},
   "outputs": [],
   "source": [
    "import cv2\n",
    "import numpy as np\n",
    "import matplotlib.pyplot as plt"
   ]
  },
  {
   "cell_type": "code",
   "execution_count": 20,
   "id": "83da435c",
   "metadata": {},
   "outputs": [],
   "source": [
    "def threshold(img, v_min, v_max):\n",
    "    '''\n",
    "    threshold an img using v_min and v_max; img.shape[2] = v_min.shape[0] = v_max.shape[0]\n",
    "    '''\n",
    "    H, W, C = img.shape\n",
    "    mask =  np.ones((H, W))\n",
    "    for i in range(C):\n",
    "        mask_i_1 = img[:, :, i] > v_min[i]\n",
    "        mask_i_2 = img[:, :, i] < v_max[i]\n",
    "        mask_i = np.logical_and(mask_i_1, mask_i_2)\n",
    "        mask = np.logical_and(mask, mask_i)\n",
    "    return mask"
   ]
  },
  {
   "cell_type": "code",
   "execution_count": 74,
   "id": "b567d084",
   "metadata": {},
   "outputs": [],
   "source": [
    "def gt_2d(path, start_idx, end_idx):\n",
    "    '''\n",
    "    path: directory path containing realsense_overhead_5_l515_color and realsense_overhead_5_l515_depth\n",
    "    '''\n",
    "    for i in range(start_idx, end_idx+1, 1):\n",
    "        rgb_path = path + \"realsense_overhead_5_l515_color/\" + str(i) + \".jpg\"\n",
    "        depth_path = path + \"realsense_overhead_5_l515_depth/\" + str(i) + \".png\"\n",
    "        rgb = cv2.imread(rgb_path)\n",
    "#         print(rgb.shape)\n",
    "        depth = cv2.imread(depth_path, cv2.IMREAD_ANYDEPTH)\n",
    "        \n",
    "#         plt.imshow(depth)\n",
    "#         plt.colorbar()\n",
    "#         plt.show()\n",
    "        depth_mask = np.logical_and(depth < 1000, depth > 600)\n",
    "        \n",
    "        hsv = cv2.cvtColor(rgb, cv2.COLOR_RGB2HSV)\n",
    "#         plt.imshow(hsv[:, :, 0])\n",
    "#         plt.colorbar()\n",
    "#         plt.show()\n",
    "#         plt.imshow(hsv[:, :, 1])\n",
    "#         plt.colorbar()\n",
    "#         plt.show()\n",
    "#         plt.imshow(hsv[:, :, 2])\n",
    "#         plt.colorbar()\n",
    "#         plt.show()\n",
    "        \n",
    "        marker_min = np.array([20,0,200])\n",
    "        marker_max = np.array([100,100,300])\n",
    "        marker_mask = threshold(hsv, marker_min, marker_max)\n",
    "        marker_mask = np.logical_and(marker_mask, depth_mask)\n",
    "#         plt.imshow(marker_mask)\n",
    "#         plt.show()\n",
    "        \n",
    "        rope_min = np.array([0,75,200])\n",
    "        rope_max = np.array([60,250,300])\n",
    "        rope_mask = threshold(hsv, rope_min, rope_max)\n",
    "        rope_mask = np.logical_and(rope_mask, depth_mask)\n",
    "#         rope_mask = np.logical_or(rope_mask, marker_mask)\n",
    "#         plt.imshow(rope_mask)\n",
    "#         plt.show()"
   ]
  },
  {
   "cell_type": "code",
   "execution_count": 75,
   "id": "1aead457",
   "metadata": {},
   "outputs": [],
   "source": [
    "# path = \"/home/yixuan/Downloads/rope_dataset_0105/2022_01_05_14_35_00/2022_01_05_14_35_00/\"\n",
    "# start_idx = 1675\n",
    "# end_idx = 2285\n",
    "\n",
    "path = \"/home/yixuan/Downloads/rope_dataset_0105_no_marker/2022_01_05_17_59_17/2022_01_05_17_59_17/\"\n",
    "start_idx = 414\n",
    "end_idx = 842\n",
    "\n",
    "gt_2d(path, start_idx, end_idx)"
   ]
  },
  {
   "cell_type": "code",
   "execution_count": null,
   "id": "0de5a428",
   "metadata": {},
   "outputs": [],
   "source": []
  }
 ],
 "metadata": {
  "kernelspec": {
   "display_name": "Python 3 (ipykernel)",
   "language": "python",
   "name": "python3"
  },
  "language_info": {
   "codemirror_mode": {
    "name": "ipython",
    "version": 3
   },
   "file_extension": ".py",
   "mimetype": "text/x-python",
   "name": "python",
   "nbconvert_exporter": "python",
   "pygments_lexer": "ipython3",
   "version": "3.7.11"
  }
 },
 "nbformat": 4,
 "nbformat_minor": 5
}
