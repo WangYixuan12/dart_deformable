{
 "cells": [
  {
   "cell_type": "code",
   "execution_count": 152,
   "id": "a3a4db97",
   "metadata": {},
   "outputs": [],
   "source": [
    "import cv2\n",
    "import torch\n",
    "from torch import optim\n",
    "from torch.autograd.functional import jacobian\n",
    "from PIL import Image\n",
    "import OpenEXR, Imath\n",
    "import numpy as np\n",
    "from matplotlib import pyplot as plt"
   ]
  },
  {
   "cell_type": "code",
   "execution_count": 241,
   "id": "25bde6c4",
   "metadata": {},
   "outputs": [],
   "source": [
    "def construct_xy(H, W, cuda=False):\n",
    "    xy = torch.zeros(2, H, W)\n",
    "    if cuda:\n",
    "        xy = xy.cuda()\n",
    "    xy[0] = torch.arange(W).reshape(1, W).repeat((H, 1)) # x\n",
    "    xy[1] = torch.arange(H-1, -1, -1).reshape(H, 1).repeat((1, W)) # y\n",
    "    return xy"
   ]
  },
  {
   "cell_type": "code",
   "execution_count": 242,
   "id": "b00059ee",
   "metadata": {},
   "outputs": [],
   "source": [
    "def dist_to_line_2d(xy, c1, c2):\n",
    "    '''\n",
    "    Input:\n",
    "        xy: (2, H, W) torch tensor - xy(h, w) is the coordinate\n",
    "        c1: (2,) torch tensor - (x,y) of one end\n",
    "        c2: (2,) torch tensor - (x,y) of another end\n",
    "    '''\n",
    "    _, H, W = xy.shape\n",
    "    xy_c1 = xy - c1.reshape(2,1,1)\n",
    "    c12 = (c2 - c1).reshape(2,1,1)\n",
    "    c12_length = c12.norm()\n",
    "    c12 = c12/c12_length\n",
    "    closest_dist = torch.clamp(torch.clamp(torch.sum(xy_c1 * c12, dim=0), min=0), max=c12_length)\n",
    "    closest_pt = c1.reshape(2,1,1) + closest_dist * c12\n",
    "    dist = torch.norm(xy - closest_pt, dim = 0)\n",
    "    return dist"
   ]
  },
  {
   "cell_type": "code",
   "execution_count": 292,
   "id": "b53915fc",
   "metadata": {},
   "outputs": [],
   "source": [
    "def q_to_c_2d(q, H, W, cuda=False):\n",
    "    l = 10\n",
    "    n = q.shape[0]-1\n",
    "    c = torch.zeros((n,2))\n",
    "    if cuda:\n",
    "        c = c.cuda()\n",
    "    c[0, 0] = q[0]\n",
    "    c[0, 1] = q[1]\n",
    "    for i in range(1, n):\n",
    "        c[i, 0] = c[i-1, 0] + l*torch.cos(q[i+1])\n",
    "        c[i, 1] = c[i-1, 1] + l*torch.sin(q[i+1])\n",
    "#     print(c)\n",
    "    return c"
   ]
  },
  {
   "cell_type": "code",
   "execution_count": 5,
   "id": "c10a5a83",
   "metadata": {},
   "outputs": [],
   "source": [
    "def render(q, H, W):\n",
    "    sigma = 3\n",
    "    c = q_to_c_2d(q, H, W)\n",
    "    xy = construct_xy(H, W)\n",
    "    prev_dist = dist_to_line_2d(xy.clone(), c[0], c[1])\n",
    "    for i in range(c.shape[0]-1):\n",
    "        dist = torch.minimum(dist_to_line_2d(xy.clone(), c[i], c[i+1]), prev_dist)\n",
    "        prev_dist = dist\n",
    "#     dist = torch.exp(-dist * dist/(sigma**2))\n",
    "    dist = dist * dist\n",
    "    return dist"
   ]
  },
  {
   "cell_type": "code",
   "execution_count": 329,
   "id": "e96038ce",
   "metadata": {},
   "outputs": [],
   "source": [
    "def loss_fn(q, H, W, mask):\n",
    "    dist = render(q, H, W)\n",
    "#     plt.imshow(dist[mask].detach().numpy())\n",
    "#     print(dist[mask].detach().numpy())\n",
    "#     plt.show()\n",
    "    return torch.sum(dist[mask])#+torch.sum(-dist[~mask])"
   ]
  },
  {
   "cell_type": "code",
   "execution_count": 132,
   "id": "c3c02d13",
   "metadata": {},
   "outputs": [],
   "source": [
    "def exr_to_np(path):\n",
    "    y_resolution = 540\n",
    "    x_resolution = 810\n",
    "    pt = Imath.PixelType(Imath.PixelType.FLOAT)\n",
    "    \n",
    "    rgb_exr = OpenEXR.InputFile(path)\n",
    "    rgb_dw = rgb_exr.header()['dataWindow']\n",
    "    rgb_size = (rgb_dw.max.x - rgb_dw.min.x + 1, rgb_dw.max.y - rgb_dw.min.y + 1)\n",
    "    r_str = rgb_exr.channel('R', pt)\n",
    "    g_str = rgb_exr.channel('G', pt)\n",
    "    b_str = rgb_exr.channel('B', pt)\n",
    "    rgb_img = np.zeros((y_resolution, x_resolution, 3))\n",
    "    r_ch = Image.frombytes(\"F\", rgb_size, r_str)\n",
    "    g_ch = Image.frombytes(\"F\", rgb_size, g_str)\n",
    "    b_ch = Image.frombytes(\"F\", rgb_size, b_str)\n",
    "    rgb_img[: ,:, 2] = np.array(r_ch.getdata()).reshape(y_resolution, x_resolution)\n",
    "    rgb_img[: ,:, 1] = np.array(g_ch.getdata()).reshape(y_resolution, x_resolution)\n",
    "    rgb_img[: ,:, 0] = np.array(b_ch.getdata()).reshape(y_resolution, x_resolution)\n",
    "    min_val = rgb_img.min()\n",
    "    max_val = rgb_img.max() \n",
    "    rgb_img = ((rgb_img - min_val)/(max_val - min_val) * 255.0).astype(np.uint8)\n",
    "    return rgb_img"
   ]
  },
  {
   "cell_type": "code",
   "execution_count": 326,
   "id": "3f4a191e",
   "metadata": {},
   "outputs": [],
   "source": [
    "class tracker:\n",
    "    def __init__(self, H, W, cuda=False):\n",
    "        self.H = H\n",
    "        self.W = W\n",
    "        self.cuda = cuda\n",
    "        \n",
    "    def set_obs(self, mask, rgb_np=None, subsample=False):\n",
    "        if subsample:\n",
    "            N = mask.nonzero().shape[0]\n",
    "            n = 100\n",
    "            rand_idx = np.random.choice(N, n)\n",
    "            sub = torch.zeros_like(mask)\n",
    "            sub[mask.nonzero()[rand_idx][:, 0], mask.nonzero()[rand_idx][:, 1]] = True\n",
    "            self.mask = sub\n",
    "            if self.cuda:\n",
    "                self.mask = sub.cuda()\n",
    "        else:\n",
    "            self.mask = mask\n",
    "            if self.cuda:\n",
    "                self.mask = mask.cuda()\n",
    "        self.rgb_np = rgb_np\n",
    "        \n",
    "    def set_init(self, q):\n",
    "        self.q = q\n",
    "        if self.cuda:\n",
    "            self.q = q.cuda()\n",
    "        \n",
    "    def dist_fn(self, q):\n",
    "        sigma = 3\n",
    "        c = q_to_c_2d(q, self.H, self.W, cuda=self.cuda)\n",
    "        xy = construct_xy(self.H, self.W, cuda=self.cuda)\n",
    "        prev_dist = dist_to_line_2d(xy.clone(), c[0], c[1])\n",
    "        for i in range(c.shape[0]-1):\n",
    "            dist = torch.minimum(dist_to_line_2d(xy.clone(), c[i], c[i+1]), prev_dist)\n",
    "            prev_dist = dist\n",
    "#         dist = torch.exp(-dist * dist/(sigma**2))\n",
    "        dist = dist[self.mask]\n",
    "        return dist\n",
    "        \n",
    "    def step(self):\n",
    "        # fwd\n",
    "        prev_q = self.q.clone()\n",
    "        changed = False\n",
    "        step_size = 0.5/self.mask.sum()\n",
    "        weight_decay = 0.9\n",
    "        step = 0\n",
    "        print('---- optimize translation ----')\n",
    "        while((((prev_q-self.q).norm().item() > 0.5) or not changed) and step < 10):\n",
    "            prev_q = self.q.clone()\n",
    "            q_grad = self.q.clone().detach().requires_grad_(True)\n",
    "            loss = loss_fn(q_grad, H, W, mask)\n",
    "            print('loss:', loss)\n",
    "            loss.backward()\n",
    "            grad = q_grad.grad.clone().detach()\n",
    "            grad[2:] = 0\n",
    "            self.q = q_grad.clone().detach()\n",
    "            self.q -= grad * step_size\n",
    "            step_size *= weight_decay\n",
    "            print(self.q)\n",
    "            print(grad)\n",
    "            changed = True\n",
    "            step += 1\n",
    "\n",
    "        changed = False\n",
    "        step_size = 10**-5\n",
    "        weight_decay = 0.9\n",
    "        step = 0\n",
    "        print('---- optimize rotation ----')\n",
    "        while((((prev_q-self.q).norm().item() > 0.5) or not changed) and step < 10):\n",
    "            prev_q = self.q.clone()\n",
    "            q_grad = self.q.clone().detach().requires_grad_(True)\n",
    "            loss = loss_fn(q_grad, H, W, mask)\n",
    "            loss.backward()\n",
    "            grad = q_grad.grad.clone().detach()\n",
    "            self.q = q_grad.clone().detach()\n",
    "            self.q -= grad * step_size\n",
    "            step_size *= weight_decay\n",
    "            print(self.q)\n",
    "            print(grad)\n",
    "            changed = True\n",
    "            step += 1\n",
    "    \n",
    "    def gauss_step(self):\n",
    "        curr_norm = float('Inf')\n",
    "        while True:\n",
    "            prev_norm = curr_norm\n",
    "            J=jacobian(self.dist_fn, self.q)\n",
    "            dist = self.dist_fn(self.q)\n",
    "            curr_norm = dist.norm()\n",
    "            print(self.q)\n",
    "            print(dist.norm())\n",
    "#             if curr_norm > prev_norm:\n",
    "#                 self.q = prev_q\n",
    "#                 break\n",
    "            prev_q = self.q.clone()\n",
    "            try:\n",
    "                self.q -= torch.mm(torch.mm(torch.mm(J.t(), J).inverse(), J.t()), dist.unsqueeze(1)).squeeze()\n",
    "            except:\n",
    "                self.q -= torch.mm(torch.mm(torch.mm(J.t(), J).pinverse(), J.t()), dist.unsqueeze(1)).squeeze()\n",
    "    \n",
    "    def lm_step(self):\n",
    "        pass\n",
    "            \n",
    "    def vis(self):\n",
    "        if self.rgb_np:\n",
    "            vis_img = self.rgb_np.copy()\n",
    "        else:\n",
    "            vis_img = np.zeros((self.H, self.W))\n",
    "\n",
    "        radius = 3\n",
    "        color = (255, 0, 0)\n",
    "        thickness = 2\n",
    "\n",
    "        c = q_to_c_2d(self.q, self.H, self.W)\n",
    "        for i in range(c.shape[0]):\n",
    "            vis_img = cv2.circle(vis_img, (int(c[i][0]), self.H-int(c[i][1])), radius, color, thickness)\n",
    "        plt.imshow(vis_img)\n",
    "        plt.show()"
   ]
  },
  {
   "cell_type": "code",
   "execution_count": 331,
   "id": "1c0039ec",
   "metadata": {},
   "outputs": [
    {
     "name": "stdout",
     "output_type": "stream",
     "text": [
      "---- optimize translation ----\n",
      "loss: tensor(277850., grad_fn=<SumBackward0>)\n",
      "tensor([181.9000, 337.0000,   0.0000,   0.0000,   0.0000,   0.0000,   0.0000,\n",
      "          0.0000,   0.0000,   0.0000,   0.0000,   0.0000], device='cuda:0')\n",
      "tensor([-1900., 23000.,     0.,     0.,     0.,     0.,     0.,     0.,     0.,\n",
      "            0.,     0.,     0.], device='cuda:0')\n",
      "loss: tensor(10078.9102, grad_fn=<SumBackward0>)\n",
      "tensor([183.2932, 337.0000,   0.0000,   0.0000,   0.0000,   0.0000,   0.0000,\n",
      "          0.0000,   0.0000,   0.0000,   0.0000,   0.0000], device='cuda:0')\n",
      "tensor([-1548.0012,     0.0000,     0.0000,     0.0000,     0.0000,     0.0000,\n",
      "            0.0000,     0.0000,     0.0000,     0.0000,     0.0000,     0.0000],\n",
      "       device='cuda:0')\n",
      "loss: tensor(8088.1084, grad_fn=<SumBackward0>)\n",
      "tensor([184.3568, 337.0000,   0.0000,   0.0000,   0.0000,   0.0000,   0.0000,\n",
      "          0.0000,   0.0000,   0.0000,   0.0000,   0.0000], device='cuda:0')\n",
      "tensor([-1313.0859,     0.0000,     0.0000,     0.0000,     0.0000,     0.0000,\n",
      "            0.0000,     0.0000,     0.0000,     0.0000,     0.0000,     0.0000],\n",
      "       device='cuda:0')\n",
      "loss: tensor(6781.3750, grad_fn=<SumBackward0>)\n",
      "tensor([185.1926, 337.0000,   0.0000,   0.0000,   0.0000,   0.0000,   0.0000,\n",
      "          0.0000,   0.0000,   0.0000,   0.0000,   0.0000], device='cuda:0')\n",
      "tensor([-1146.4783,     0.0000,     0.0000,     0.0000,     0.0000,     0.0000,\n",
      "            0.0000,     0.0000,     0.0000,     0.0000,     0.0000,     0.0000],\n",
      "       device='cuda:0')\n",
      "loss: tensor(5875.4014, grad_fn=<SumBackward0>)\n",
      "tensor([185.8638, 337.0000,   0.0000,   0.0000,   0.0000,   0.0000,   0.0000,\n",
      "          0.0000,   0.0000,   0.0000,   0.0000,   0.0000], device='cuda:0')\n",
      "tensor([-1023.0408,     0.0000,     0.0000,     0.0000,     0.0000,     0.0000,\n",
      "            0.0000,     0.0000,     0.0000,     0.0000,     0.0000,     0.0000],\n",
      "       device='cuda:0')\n",
      "loss: tensor(5220.2412, grad_fn=<SumBackward0>)\n",
      "tensor([186.4124, 337.0000,   0.0000,   0.0000,   0.0000,   0.0000,   0.0000,\n",
      "          0.0000,   0.0000,   0.0000,   0.0000,   0.0000], device='cuda:0')\n",
      "tensor([-929.0680,    0.0000,    0.0000,    0.0000,    0.0000,    0.0000,\n",
      "           0.0000,    0.0000,    0.0000,    0.0000,    0.0000,    0.0000],\n",
      "       device='cuda:0')\n",
      "loss: tensor(4730.7583, grad_fn=<SumBackward0>)\n",
      "tensor([186.8675, 337.0000,   0.0000,   0.0000,   0.0000,   0.0000,   0.0000,\n",
      "          0.0000,   0.0000,   0.0000,   0.0000,   0.0000], device='cuda:0')\n",
      "tensor([-856.3861,    0.0000,    0.0000,    0.0000,    0.0000,    0.0000,\n",
      "           0.0000,    0.0000,    0.0000,    0.0000,    0.0000,    0.0000],\n",
      "       device='cuda:0')\n",
      "---- optimize rotation ----\n",
      "tensor([186.8755, 337.0000,   0.0000,   0.0000,   0.0000,   0.0000,   0.0000,\n",
      "          0.0000,   0.0000,   0.0000,   0.0000,   0.0000], device='cuda:0')\n",
      "tensor([-797.2220,    0.0000,    0.0000,    0.0000,    0.0000,    0.0000,\n",
      "           0.0000,    0.0000,    0.0000,    0.0000,    0.0000,    0.0000],\n",
      "       device='cuda:0')\n"
     ]
    }
   ],
   "source": [
    "# gradient descent sanity check\n",
    "H = 540\n",
    "W = 810\n",
    "simple_tracker = tracker(H, W,cuda=True)\n",
    "q = torch.zeros((12,))\n",
    "q[0] = 180\n",
    "q[1] = 360\n",
    "simple_tracker.set_init(q)\n",
    "mask = torch.zeros((H, W), dtype=bool)\n",
    "mask[200:205, 200:300] = True\n",
    "simple_tracker.set_obs(mask)\n",
    "simple_tracker.step()"
   ]
  },
  {
   "cell_type": "code",
   "execution_count": 327,
   "id": "f16751a9",
   "metadata": {},
   "outputs": [
    {
     "name": "stdout",
     "output_type": "stream",
     "text": [
      "tensor([180., 360.,   0.,   0.,   0.,   0.,   0.,   0.,   0.,   0.,   0.,   0.],\n",
      "       device='cuda:0')\n",
      "tensor(527.1148, device='cuda:0')\n",
      "tensor([ 1.9654e+02,  3.5325e+02, -7.6175e-01, -7.6175e-01,  1.0150e-04,\n",
      "        -4.3586e-05, -1.3345e-04,  7.5666e-04, -3.1147e-03,  1.1966e-02,\n",
      "        -4.5542e-02,  1.7313e-01], device='cuda:0')\n",
      "tensor(85.8506, device='cuda:0')\n",
      "tensor([ 1.8874e+02,  3.4459e+02, -1.4431e+00,  5.4272e-01,  2.5834e-01,\n",
      "        -6.8566e-02,  1.9471e-02, -9.4998e-03,  1.5606e-02, -4.0893e-02,\n",
      "         8.8579e-02, -1.2857e-01], device='cuda:0')\n",
      "tensor(168.0349, device='cuda:0')\n",
      "tensor([ 1.1778e+02,  3.3268e+02,  6.9570e+00,  6.5555e-01, -3.8811e-01,\n",
      "        -1.0439e-01,  8.9940e-02, -1.7318e-02, -4.8457e-02,  1.1051e-01,\n",
      "        -1.7387e-01,  2.6067e-01], device='cuda:0')\n",
      "tensor(1061.2692, device='cuda:0')\n",
      "tensor([264.4680, 286.3543,  15.8830,   5.0074, -18.1515,  10.2883,  -1.5284,\n",
      "          5.9765,  -7.7262,   1.0369,   7.3244,   4.8645], device='cuda:0')\n",
      "tensor(1297.6846, device='cuda:0')\n"
     ]
    },
    {
     "ename": "KeyboardInterrupt",
     "evalue": "",
     "output_type": "error",
     "traceback": [
      "\u001b[0;31m---------------------------------------------------------------------------\u001b[0m",
      "\u001b[0;31mKeyboardInterrupt\u001b[0m                         Traceback (most recent call last)",
      "\u001b[0;32m/tmp/ipykernel_775469/89302567.py\u001b[0m in \u001b[0;36m<module>\u001b[0;34m\u001b[0m\n\u001b[1;32m     10\u001b[0m \u001b[0mmask\u001b[0m\u001b[0;34m[\u001b[0m\u001b[0;36m200\u001b[0m\u001b[0;34m:\u001b[0m\u001b[0;36m205\u001b[0m\u001b[0;34m,\u001b[0m \u001b[0;36m200\u001b[0m\u001b[0;34m:\u001b[0m\u001b[0;36m300\u001b[0m\u001b[0;34m]\u001b[0m \u001b[0;34m=\u001b[0m \u001b[0;32mTrue\u001b[0m\u001b[0;34m\u001b[0m\u001b[0;34m\u001b[0m\u001b[0m\n\u001b[1;32m     11\u001b[0m \u001b[0msimple_tracker\u001b[0m\u001b[0;34m.\u001b[0m\u001b[0mset_obs\u001b[0m\u001b[0;34m(\u001b[0m\u001b[0mmask\u001b[0m\u001b[0;34m)\u001b[0m\u001b[0;34m\u001b[0m\u001b[0;34m\u001b[0m\u001b[0m\n\u001b[0;32m---> 12\u001b[0;31m \u001b[0msimple_tracker\u001b[0m\u001b[0;34m.\u001b[0m\u001b[0mgauss_step\u001b[0m\u001b[0;34m(\u001b[0m\u001b[0;34m)\u001b[0m\u001b[0;34m\u001b[0m\u001b[0;34m\u001b[0m\u001b[0m\n\u001b[0m",
      "\u001b[0;32m/tmp/ipykernel_775469/380501546.py\u001b[0m in \u001b[0;36mgauss_step\u001b[0;34m(self)\u001b[0m\n\u001b[1;32m     85\u001b[0m         \u001b[0;32mwhile\u001b[0m \u001b[0;32mTrue\u001b[0m\u001b[0;34m:\u001b[0m\u001b[0;34m\u001b[0m\u001b[0;34m\u001b[0m\u001b[0m\n\u001b[1;32m     86\u001b[0m             \u001b[0mprev_norm\u001b[0m \u001b[0;34m=\u001b[0m \u001b[0mcurr_norm\u001b[0m\u001b[0;34m\u001b[0m\u001b[0;34m\u001b[0m\u001b[0m\n\u001b[0;32m---> 87\u001b[0;31m             \u001b[0mJ\u001b[0m\u001b[0;34m=\u001b[0m\u001b[0mjacobian\u001b[0m\u001b[0;34m(\u001b[0m\u001b[0mself\u001b[0m\u001b[0;34m.\u001b[0m\u001b[0mdist_fn\u001b[0m\u001b[0;34m,\u001b[0m \u001b[0mself\u001b[0m\u001b[0;34m.\u001b[0m\u001b[0mq\u001b[0m\u001b[0;34m)\u001b[0m\u001b[0;34m\u001b[0m\u001b[0;34m\u001b[0m\u001b[0m\n\u001b[0m\u001b[1;32m     88\u001b[0m             \u001b[0mdist\u001b[0m \u001b[0;34m=\u001b[0m \u001b[0mself\u001b[0m\u001b[0;34m.\u001b[0m\u001b[0mdist_fn\u001b[0m\u001b[0;34m(\u001b[0m\u001b[0mself\u001b[0m\u001b[0;34m.\u001b[0m\u001b[0mq\u001b[0m\u001b[0;34m)\u001b[0m\u001b[0;34m\u001b[0m\u001b[0;34m\u001b[0m\u001b[0m\n\u001b[1;32m     89\u001b[0m             \u001b[0mcurr_norm\u001b[0m \u001b[0;34m=\u001b[0m \u001b[0mdist\u001b[0m\u001b[0;34m.\u001b[0m\u001b[0mnorm\u001b[0m\u001b[0;34m(\u001b[0m\u001b[0;34m)\u001b[0m\u001b[0;34m\u001b[0m\u001b[0;34m\u001b[0m\u001b[0m\n",
      "\u001b[0;32m~/miniconda3/envs/dart_deform/lib/python3.7/site-packages/torch/autograd/functional.py\u001b[0m in \u001b[0;36mjacobian\u001b[0;34m(func, inputs, create_graph, strict, vectorize)\u001b[0m\n\u001b[1;32m    578\u001b[0m             \u001b[0;32mfor\u001b[0m \u001b[0mj\u001b[0m \u001b[0;32min\u001b[0m \u001b[0mrange\u001b[0m\u001b[0;34m(\u001b[0m\u001b[0mout\u001b[0m\u001b[0;34m.\u001b[0m\u001b[0mnelement\u001b[0m\u001b[0;34m(\u001b[0m\u001b[0;34m)\u001b[0m\u001b[0;34m)\u001b[0m\u001b[0;34m:\u001b[0m\u001b[0;34m\u001b[0m\u001b[0;34m\u001b[0m\u001b[0m\n\u001b[1;32m    579\u001b[0m                 vj = _autograd_grad((out.reshape(-1)[j],), inputs,\n\u001b[0;32m--> 580\u001b[0;31m                                     retain_graph=True, create_graph=create_graph)\n\u001b[0m\u001b[1;32m    581\u001b[0m \u001b[0;34m\u001b[0m\u001b[0m\n\u001b[1;32m    582\u001b[0m                 \u001b[0;32mfor\u001b[0m \u001b[0mel_idx\u001b[0m\u001b[0;34m,\u001b[0m \u001b[0;34m(\u001b[0m\u001b[0mjac_i_el\u001b[0m\u001b[0;34m,\u001b[0m \u001b[0mvj_el\u001b[0m\u001b[0;34m,\u001b[0m \u001b[0minp_el\u001b[0m\u001b[0;34m)\u001b[0m \u001b[0;32min\u001b[0m \u001b[0menumerate\u001b[0m\u001b[0;34m(\u001b[0m\u001b[0mzip\u001b[0m\u001b[0;34m(\u001b[0m\u001b[0mjac_i\u001b[0m\u001b[0;34m,\u001b[0m \u001b[0mvj\u001b[0m\u001b[0;34m,\u001b[0m \u001b[0minputs\u001b[0m\u001b[0;34m)\u001b[0m\u001b[0;34m)\u001b[0m\u001b[0;34m:\u001b[0m\u001b[0;34m\u001b[0m\u001b[0;34m\u001b[0m\u001b[0m\n",
      "\u001b[0;32m~/miniconda3/envs/dart_deform/lib/python3.7/site-packages/torch/autograd/functional.py\u001b[0m in \u001b[0;36m_autograd_grad\u001b[0;34m(outputs, inputs, grad_outputs, create_graph, retain_graph)\u001b[0m\n\u001b[1;32m    146\u001b[0m     \u001b[0;32melse\u001b[0m\u001b[0;34m:\u001b[0m\u001b[0;34m\u001b[0m\u001b[0;34m\u001b[0m\u001b[0m\n\u001b[1;32m    147\u001b[0m         return torch.autograd.grad(new_outputs, inputs, new_grad_outputs, allow_unused=True,\n\u001b[0;32m--> 148\u001b[0;31m                                    create_graph=create_graph, retain_graph=retain_graph)\n\u001b[0m\u001b[1;32m    149\u001b[0m \u001b[0;34m\u001b[0m\u001b[0m\n\u001b[1;32m    150\u001b[0m \u001b[0;32mdef\u001b[0m \u001b[0m_fill_in_zeros\u001b[0m\u001b[0;34m(\u001b[0m\u001b[0mgrads\u001b[0m\u001b[0;34m,\u001b[0m \u001b[0mrefs\u001b[0m\u001b[0;34m,\u001b[0m \u001b[0mstrict\u001b[0m\u001b[0;34m,\u001b[0m \u001b[0mcreate_graph\u001b[0m\u001b[0;34m,\u001b[0m \u001b[0mstage\u001b[0m\u001b[0;34m)\u001b[0m\u001b[0;34m:\u001b[0m\u001b[0;34m\u001b[0m\u001b[0;34m\u001b[0m\u001b[0m\n",
      "\u001b[0;32m~/miniconda3/envs/dart_deform/lib/python3.7/site-packages/torch/autograd/__init__.py\u001b[0m in \u001b[0;36mgrad\u001b[0;34m(outputs, inputs, grad_outputs, retain_graph, create_graph, only_inputs, allow_unused)\u001b[0m\n\u001b[1;32m    234\u001b[0m     return Variable._execution_engine.run_backward(\n\u001b[1;32m    235\u001b[0m         \u001b[0moutputs\u001b[0m\u001b[0;34m,\u001b[0m \u001b[0mgrad_outputs_\u001b[0m\u001b[0;34m,\u001b[0m \u001b[0mretain_graph\u001b[0m\u001b[0;34m,\u001b[0m \u001b[0mcreate_graph\u001b[0m\u001b[0;34m,\u001b[0m\u001b[0;34m\u001b[0m\u001b[0;34m\u001b[0m\u001b[0m\n\u001b[0;32m--> 236\u001b[0;31m         inputs, allow_unused, accumulate_grad=False)\n\u001b[0m\u001b[1;32m    237\u001b[0m \u001b[0;34m\u001b[0m\u001b[0m\n\u001b[1;32m    238\u001b[0m \u001b[0;34m\u001b[0m\u001b[0m\n",
      "\u001b[0;31mKeyboardInterrupt\u001b[0m: "
     ]
    }
   ],
   "source": [
    "# gauss-newton method sanity check\n",
    "H = 540\n",
    "W = 810\n",
    "simple_tracker = tracker(H, W,cuda=True)\n",
    "q = torch.zeros((12,))\n",
    "q[0] = 180\n",
    "q[1] = 360\n",
    "simple_tracker.set_init(q)\n",
    "mask = torch.zeros((H, W), dtype=bool)\n",
    "mask[200:205, 200:300] = True\n",
    "simple_tracker.set_obs(mask)\n",
    "simple_tracker.gauss_step()"
   ]
  },
  {
   "cell_type": "code",
   "execution_count": 325,
   "id": "598e4c6c",
   "metadata": {},
   "outputs": [
    {
     "data": {
      "image/png": "[encoded data removed]",
      "text/plain": [
       "<Figure size 432x288 with 1 Axes>"
      ]
     },
     "metadata": {
      "needs_background": "light"
     },
     "output_type": "display_data"
    }
   ],
   "source": [
    "simple_tracker.vis()"
   ]
  },
  {
   "cell_type": "code",
   "execution_count": 144,
   "id": "4380d9a4",
   "metadata": {},
   "outputs": [
    {
     "name": "stdout",
     "output_type": "stream",
     "text": [
      "---- optimize translation ----\n",
      "loss: tensor(3.7392e+08, grad_fn=<SumBackward0>)\n",
      "tensor([ 40.1525, 264.1602,   0.0000,   0.0000,   0.0000,   0.0000,   0.0000,\n",
      "          0.0000,   0.0000,   0.0000,   0.0000,   0.0000,   0.0000,   0.0000,\n",
      "          0.0000,   0.0000,   0.0000,   0.0000,   0.0000,   0.0000,   0.0000,\n",
      "          0.0000,   0.0000,   0.0000,   0.0000,   0.0000,   0.0000,   0.0000,\n",
      "          0.0000,   0.0000,   0.0000,   0.0000,   0.0000,   0.0000,   0.0000,\n",
      "          0.0000,   0.0000,   0.0000])\n",
      "tensor([-1.6340e+03, -2.8302e+06,  0.0000e+00,  0.0000e+00,  0.0000e+00,\n",
      "         0.0000e+00,  0.0000e+00,  0.0000e+00,  0.0000e+00,  0.0000e+00,\n",
      "         0.0000e+00,  0.0000e+00,  0.0000e+00,  0.0000e+00,  0.0000e+00,\n",
      "         0.0000e+00,  0.0000e+00,  0.0000e+00,  0.0000e+00,  0.0000e+00,\n",
      "         0.0000e+00,  0.0000e+00,  0.0000e+00,  0.0000e+00,  0.0000e+00,\n",
      "         0.0000e+00,  0.0000e+00,  0.0000e+00,  0.0000e+00,  0.0000e+00,\n",
      "         0.0000e+00,  0.0000e+00,  0.0000e+00,  0.0000e+00,  0.0000e+00,\n",
      "         0.0000e+00,  0.0000e+00,  0.0000e+00])\n",
      "loss: tensor(100952.8984, grad_fn=<SumBackward0>)\n",
      "tensor([ 40.2825, 264.1602,   0.0000,   0.0000,   0.0000,   0.0000,   0.0000,\n",
      "          0.0000,   0.0000,   0.0000,   0.0000,   0.0000,   0.0000,   0.0000,\n",
      "          0.0000,   0.0000,   0.0000,   0.0000,   0.0000,   0.0000,   0.0000,\n",
      "          0.0000,   0.0000,   0.0000,   0.0000,   0.0000,   0.0000,   0.0000,\n",
      "          0.0000,   0.0000,   0.0000,   0.0000,   0.0000,   0.0000,   0.0000,\n",
      "          0.0000,   0.0000,   0.0000])\n",
      "tensor([-1.5480e+03, -8.6075e-02,  0.0000e+00,  0.0000e+00,  0.0000e+00,\n",
      "         0.0000e+00,  0.0000e+00,  0.0000e+00,  0.0000e+00,  0.0000e+00,\n",
      "         0.0000e+00,  0.0000e+00,  0.0000e+00,  0.0000e+00,  0.0000e+00,\n",
      "         0.0000e+00,  0.0000e+00,  0.0000e+00,  0.0000e+00,  0.0000e+00,\n",
      "         0.0000e+00,  0.0000e+00,  0.0000e+00,  0.0000e+00,  0.0000e+00,\n",
      "         0.0000e+00,  0.0000e+00,  0.0000e+00,  0.0000e+00,  0.0000e+00,\n",
      "         0.0000e+00,  0.0000e+00,  0.0000e+00,  0.0000e+00,  0.0000e+00,\n",
      "         0.0000e+00,  0.0000e+00,  0.0000e+00])\n",
      "---- optimize rotation ----\n",
      "tensor([4.0297e+01, 2.6416e+02, 1.7876e-02, 3.6361e-02, 5.4845e-02, 7.3329e-02,\n",
      "        9.1814e-02, 1.1030e-01, 1.2878e-01, 1.4727e-01, 1.6575e-01, 1.8320e-01,\n",
      "        1.9946e-01, 2.0782e-01, 2.0766e-01, 2.0884e-01, 2.1262e-01, 2.0587e-01,\n",
      "        1.9636e-01, 1.8684e-01, 1.7732e-01, 1.6781e-01, 1.5829e-01, 1.4878e-01,\n",
      "        1.3926e-01, 1.2975e-01, 1.2023e-01, 1.1072e-01, 1.0120e-01, 9.1684e-02,\n",
      "        8.2169e-02, 7.2653e-02, 6.3137e-02, 5.3622e-02, 4.4106e-02, 3.4591e-02,\n",
      "        2.5075e-02, 1.5559e-02])\n",
      "tensor([-1.4746e+03, -8.5892e-02, -1.7876e+03, -3.6361e+03, -5.4845e+03,\n",
      "        -7.3329e+03, -9.1814e+03, -1.1030e+04, -1.2878e+04, -1.4727e+04,\n",
      "        -1.6575e+04, -1.8320e+04, -1.9946e+04, -2.0782e+04, -2.0766e+04,\n",
      "        -2.0884e+04, -2.1262e+04, -2.0587e+04, -1.9636e+04, -1.8684e+04,\n",
      "        -1.7732e+04, -1.6781e+04, -1.5829e+04, -1.4878e+04, -1.3926e+04,\n",
      "        -1.2975e+04, -1.2023e+04, -1.1072e+04, -1.0120e+04, -9.1684e+03,\n",
      "        -8.2169e+03, -7.2653e+03, -6.3137e+03, -5.3622e+03, -4.4106e+03,\n",
      "        -3.4591e+03, -2.5075e+03, -1.5559e+03])\n",
      "tensor([ 40.5631, 261.8738, -22.8732, -22.8710, -22.8517, -22.8106, -22.7427,\n",
      "        -22.6433, -22.5072, -22.3291, -22.1037, -21.8278, -21.4976, -21.1283,\n",
      "        -20.7465, -20.2841, -19.7643, -19.2642, -18.7255, -18.1384, -17.5058,\n",
      "        -16.8303, -16.1147, -15.3615, -14.5731, -13.7522, -12.9012, -12.0224,\n",
      "        -11.1183, -10.1910,  -9.2426,  -8.2760,  -7.2925,  -6.2956,  -5.2859,\n",
      "         -4.2667,  -3.2401,  -2.2071])\n",
      "tensor([ -29534.9805,  254038.9219, 2543449.5000, 2545258.0000, 2545169.0000,\n",
      "        2542653.2500, 2537172.7500, 2528176.7500, 2515104.0000, 2497374.2500,\n",
      "        2474378.2500, 2445665.0000, 2410780.2500, 2370682.7500, 2328240.7500,\n",
      "        2276994.7500, 2219653.2500, 2163342.2500, 2102425.0000, 2036139.1250,\n",
      "        1964786.7500, 1888680.0000, 1808108.0000, 1723360.7500, 1634706.0000,\n",
      "        1542439.5000, 1446826.5000, 1348122.2500, 1246610.3750, 1142521.1250,\n",
      "        1036082.5000,  927623.0000,  817291.1875,  705465.8125,  592226.1250,\n",
      "         477925.1875,  362795.2812,  246958.8125])\n",
      "tensor([ 56.3625, 262.0653, -22.8752, -22.8710, -22.8517, -22.8106, -22.7427,\n",
      "        -22.6433, -22.5072, -22.3291, -22.1037, -21.8278, -21.4976, -21.1283,\n",
      "        -20.7465, -20.2841, -19.7643, -19.2642, -18.7255, -18.1384, -17.5058,\n",
      "        -16.8303, -16.1147, -15.3615, -14.5731, -13.7522, -12.9012, -12.0224,\n",
      "        -11.1183, -10.1910,  -9.2426,  -8.2760,  -7.2925,  -6.2956,  -5.2859,\n",
      "         -4.2667,  -3.2401,  -2.2071])\n",
      "tensor([-1.9505e+06, -2.3645e+04,  2.4817e+02,  0.0000e+00,  0.0000e+00,\n",
      "         0.0000e+00,  0.0000e+00,  0.0000e+00,  0.0000e+00,  0.0000e+00,\n",
      "         0.0000e+00,  0.0000e+00,  0.0000e+00,  0.0000e+00,  0.0000e+00,\n",
      "         0.0000e+00,  0.0000e+00,  0.0000e+00,  0.0000e+00,  0.0000e+00,\n",
      "         0.0000e+00,  0.0000e+00,  0.0000e+00,  0.0000e+00,  0.0000e+00,\n",
      "         0.0000e+00,  0.0000e+00,  0.0000e+00,  0.0000e+00,  0.0000e+00,\n",
      "         0.0000e+00,  0.0000e+00,  0.0000e+00,  0.0000e+00,  0.0000e+00,\n",
      "         0.0000e+00,  0.0000e+00,  0.0000e+00])\n",
      "tensor([ 69.3703, 262.1955, -22.5629, -22.7754, -22.8517, -22.8106, -22.7427,\n",
      "        -22.6433, -22.5072, -22.3291, -22.1037, -21.8278, -21.4976, -21.1283,\n",
      "        -20.7465, -20.2841, -19.7643, -19.2642, -18.7255, -18.1384, -17.5058,\n",
      "        -16.8303, -16.1147, -15.3615, -14.5731, -13.7522, -12.9012, -12.0224,\n",
      "        -11.1183, -10.1910,  -9.2426,  -8.2760,  -7.2925,  -6.2956,  -5.2859,\n",
      "         -4.2667,  -3.2401,  -2.2071])\n",
      "tensor([-1784337.7500,   -17848.5586,   -42835.7734,   -13103.3047,\n",
      "               0.0000,        0.0000,        0.0000,        0.0000,\n",
      "               0.0000,        0.0000,        0.0000,        0.0000,\n",
      "               0.0000,        0.0000,        0.0000,        0.0000,\n",
      "               0.0000,        0.0000,        0.0000,        0.0000,\n",
      "               0.0000,        0.0000,        0.0000,        0.0000,\n",
      "               0.0000,        0.0000,        0.0000,        0.0000,\n",
      "               0.0000,        0.0000,        0.0000,        0.0000,\n",
      "               0.0000,        0.0000,        0.0000,        0.0000,\n",
      "               0.0000,        0.0000])\n",
      "tensor([ 80.2124, 262.2762, -21.9223, -22.2926, -22.7502, -22.8106, -22.7427,\n",
      "        -22.6433, -22.5072, -22.3291, -22.1037, -21.8278, -21.4976, -21.1283,\n",
      "        -20.7465, -20.2841, -19.7643, -19.2642, -18.7255, -18.1384, -17.5058,\n",
      "        -16.8303, -16.1147, -15.3615, -14.5731, -13.7522, -12.9012, -12.0224,\n",
      "        -11.1183, -10.1910,  -9.2426,  -8.2760,  -7.2925,  -6.2956,  -5.2859,\n",
      "         -4.2667,  -3.2401,  -2.2071])\n",
      "tensor([-1652500.3750,   -12302.9551,   -97634.0703,   -73597.0000,\n",
      "          -15460.3047,        0.0000,        0.0000,        0.0000,\n",
      "               0.0000,        0.0000,        0.0000,        0.0000,\n",
      "               0.0000,        0.0000,        0.0000,        0.0000,\n",
      "               0.0000,        0.0000,        0.0000,        0.0000,\n",
      "               0.0000,        0.0000,        0.0000,        0.0000,\n",
      "               0.0000,        0.0000,        0.0000,        0.0000,\n",
      "               0.0000,        0.0000,        0.0000,        0.0000,\n",
      "               0.0000,        0.0000,        0.0000,        0.0000,\n",
      "               0.0000,        0.0000])\n"
     ]
    },
    {
     "ename": "KeyboardInterrupt",
     "evalue": "",
     "output_type": "error",
     "traceback": [
      "\u001b[0;31m---------------------------------------------------------------------------\u001b[0m",
      "\u001b[0;31mKeyboardInterrupt\u001b[0m                         Traceback (most recent call last)",
      "\u001b[0;32m/tmp/ipykernel_775469/3107270523.py\u001b[0m in \u001b[0;36m<module>\u001b[0;34m\u001b[0m\n\u001b[1;32m     10\u001b[0m     \u001b[0mmask\u001b[0m \u001b[0;34m=\u001b[0m \u001b[0mrgb_np\u001b[0m\u001b[0;34m[\u001b[0m\u001b[0;34m:\u001b[0m\u001b[0;34m,\u001b[0m \u001b[0;34m:\u001b[0m\u001b[0;34m,\u001b[0m \u001b[0;36m2\u001b[0m\u001b[0;34m]\u001b[0m \u001b[0;34m>\u001b[0m \u001b[0;36m100\u001b[0m\u001b[0;34m\u001b[0m\u001b[0;34m\u001b[0m\u001b[0m\n\u001b[1;32m     11\u001b[0m     \u001b[0msimple_tracker\u001b[0m\u001b[0;34m.\u001b[0m\u001b[0mset_obs\u001b[0m\u001b[0;34m(\u001b[0m\u001b[0mtorch\u001b[0m\u001b[0;34m.\u001b[0m\u001b[0mtensor\u001b[0m\u001b[0;34m(\u001b[0m\u001b[0mmask\u001b[0m\u001b[0;34m)\u001b[0m\u001b[0;34m,\u001b[0m \u001b[0mrgb_np\u001b[0m\u001b[0;34m)\u001b[0m\u001b[0;34m\u001b[0m\u001b[0;34m\u001b[0m\u001b[0m\n\u001b[0;32m---> 12\u001b[0;31m     \u001b[0msimple_tracker\u001b[0m\u001b[0;34m.\u001b[0m\u001b[0mstep\u001b[0m\u001b[0;34m(\u001b[0m\u001b[0;34m)\u001b[0m\u001b[0;34m\u001b[0m\u001b[0;34m\u001b[0m\u001b[0m\n\u001b[0m\u001b[1;32m     13\u001b[0m     \u001b[0msimple_tracker\u001b[0m\u001b[0;34m.\u001b[0m\u001b[0mvis\u001b[0m\u001b[0;34m(\u001b[0m\u001b[0;34m)\u001b[0m\u001b[0;34m\u001b[0m\u001b[0;34m\u001b[0m\u001b[0m\n",
      "\u001b[0;32m/tmp/ipykernel_775469/1459104849.py\u001b[0m in \u001b[0;36mstep\u001b[0;34m(self)\u001b[0m\n\u001b[1;32m     43\u001b[0m             \u001b[0mprev_q\u001b[0m \u001b[0;34m=\u001b[0m \u001b[0mself\u001b[0m\u001b[0;34m.\u001b[0m\u001b[0mq\u001b[0m\u001b[0;34m.\u001b[0m\u001b[0mclone\u001b[0m\u001b[0;34m(\u001b[0m\u001b[0;34m)\u001b[0m\u001b[0;34m\u001b[0m\u001b[0;34m\u001b[0m\u001b[0m\n\u001b[1;32m     44\u001b[0m             \u001b[0mq_grad\u001b[0m \u001b[0;34m=\u001b[0m \u001b[0mself\u001b[0m\u001b[0;34m.\u001b[0m\u001b[0mq\u001b[0m\u001b[0;34m.\u001b[0m\u001b[0mclone\u001b[0m\u001b[0;34m(\u001b[0m\u001b[0;34m)\u001b[0m\u001b[0;34m.\u001b[0m\u001b[0mdetach\u001b[0m\u001b[0;34m(\u001b[0m\u001b[0;34m)\u001b[0m\u001b[0;34m.\u001b[0m\u001b[0mrequires_grad_\u001b[0m\u001b[0;34m(\u001b[0m\u001b[0;32mTrue\u001b[0m\u001b[0;34m)\u001b[0m\u001b[0;34m\u001b[0m\u001b[0;34m\u001b[0m\u001b[0m\n\u001b[0;32m---> 45\u001b[0;31m             \u001b[0mloss\u001b[0m \u001b[0;34m=\u001b[0m \u001b[0mloss_fn\u001b[0m\u001b[0;34m(\u001b[0m\u001b[0mq_grad\u001b[0m\u001b[0;34m,\u001b[0m \u001b[0mH\u001b[0m\u001b[0;34m,\u001b[0m \u001b[0mW\u001b[0m\u001b[0;34m,\u001b[0m \u001b[0mmask\u001b[0m\u001b[0;34m)\u001b[0m\u001b[0;34m\u001b[0m\u001b[0;34m\u001b[0m\u001b[0m\n\u001b[0m\u001b[1;32m     46\u001b[0m             \u001b[0mloss\u001b[0m\u001b[0;34m.\u001b[0m\u001b[0mbackward\u001b[0m\u001b[0;34m(\u001b[0m\u001b[0;34m)\u001b[0m\u001b[0;34m\u001b[0m\u001b[0;34m\u001b[0m\u001b[0m\n\u001b[1;32m     47\u001b[0m             \u001b[0mgrad\u001b[0m \u001b[0;34m=\u001b[0m \u001b[0mq_grad\u001b[0m\u001b[0;34m.\u001b[0m\u001b[0mgrad\u001b[0m\u001b[0;34m.\u001b[0m\u001b[0mclone\u001b[0m\u001b[0;34m(\u001b[0m\u001b[0;34m)\u001b[0m\u001b[0;34m.\u001b[0m\u001b[0mdetach\u001b[0m\u001b[0;34m(\u001b[0m\u001b[0;34m)\u001b[0m\u001b[0;34m\u001b[0m\u001b[0;34m\u001b[0m\u001b[0m\n",
      "\u001b[0;32m/tmp/ipykernel_775469/2614642132.py\u001b[0m in \u001b[0;36mloss_fn\u001b[0;34m(q, H, W, mask)\u001b[0m\n\u001b[1;32m      1\u001b[0m \u001b[0;32mdef\u001b[0m \u001b[0mloss_fn\u001b[0m\u001b[0;34m(\u001b[0m\u001b[0mq\u001b[0m\u001b[0;34m,\u001b[0m \u001b[0mH\u001b[0m\u001b[0;34m,\u001b[0m \u001b[0mW\u001b[0m\u001b[0;34m,\u001b[0m \u001b[0mmask\u001b[0m\u001b[0;34m)\u001b[0m\u001b[0;34m:\u001b[0m\u001b[0;34m\u001b[0m\u001b[0;34m\u001b[0m\u001b[0m\n\u001b[0;32m----> 2\u001b[0;31m     \u001b[0mdist\u001b[0m \u001b[0;34m=\u001b[0m \u001b[0mrender\u001b[0m\u001b[0;34m(\u001b[0m\u001b[0mq\u001b[0m\u001b[0;34m,\u001b[0m \u001b[0mH\u001b[0m\u001b[0;34m,\u001b[0m \u001b[0mW\u001b[0m\u001b[0;34m)\u001b[0m\u001b[0;34m\u001b[0m\u001b[0;34m\u001b[0m\u001b[0m\n\u001b[0m\u001b[1;32m      3\u001b[0m \u001b[0;31m#     plt.imshow(dist)\u001b[0m\u001b[0;34m\u001b[0m\u001b[0;34m\u001b[0m\u001b[0;34m\u001b[0m\u001b[0m\n\u001b[1;32m      4\u001b[0m \u001b[0;31m#     plt.show()\u001b[0m\u001b[0;34m\u001b[0m\u001b[0;34m\u001b[0m\u001b[0;34m\u001b[0m\u001b[0m\n\u001b[1;32m      5\u001b[0m \u001b[0;31m#     mask = torch.zeros((H, W), dtype=bool)\u001b[0m\u001b[0;34m\u001b[0m\u001b[0;34m\u001b[0m\u001b[0;34m\u001b[0m\u001b[0m\n",
      "\u001b[0;32m/tmp/ipykernel_775469/154365952.py\u001b[0m in \u001b[0;36mrender\u001b[0;34m(q, H, W)\u001b[0m\n\u001b[1;32m      5\u001b[0m     \u001b[0mprev_dist\u001b[0m \u001b[0;34m=\u001b[0m \u001b[0mdist_to_line_2d\u001b[0m\u001b[0;34m(\u001b[0m\u001b[0mxy\u001b[0m\u001b[0;34m.\u001b[0m\u001b[0mclone\u001b[0m\u001b[0;34m(\u001b[0m\u001b[0;34m)\u001b[0m\u001b[0;34m,\u001b[0m \u001b[0mc\u001b[0m\u001b[0;34m[\u001b[0m\u001b[0;36m0\u001b[0m\u001b[0;34m]\u001b[0m\u001b[0;34m,\u001b[0m \u001b[0mc\u001b[0m\u001b[0;34m[\u001b[0m\u001b[0;36m1\u001b[0m\u001b[0;34m]\u001b[0m\u001b[0;34m)\u001b[0m\u001b[0;34m\u001b[0m\u001b[0;34m\u001b[0m\u001b[0m\n\u001b[1;32m      6\u001b[0m     \u001b[0;32mfor\u001b[0m \u001b[0mi\u001b[0m \u001b[0;32min\u001b[0m \u001b[0mrange\u001b[0m\u001b[0;34m(\u001b[0m\u001b[0mc\u001b[0m\u001b[0;34m.\u001b[0m\u001b[0mshape\u001b[0m\u001b[0;34m[\u001b[0m\u001b[0;36m0\u001b[0m\u001b[0;34m]\u001b[0m\u001b[0;34m-\u001b[0m\u001b[0;36m1\u001b[0m\u001b[0;34m)\u001b[0m\u001b[0;34m:\u001b[0m\u001b[0;34m\u001b[0m\u001b[0;34m\u001b[0m\u001b[0m\n\u001b[0;32m----> 7\u001b[0;31m         \u001b[0mdist\u001b[0m \u001b[0;34m=\u001b[0m \u001b[0mtorch\u001b[0m\u001b[0;34m.\u001b[0m\u001b[0mminimum\u001b[0m\u001b[0;34m(\u001b[0m\u001b[0mdist_to_line_2d\u001b[0m\u001b[0;34m(\u001b[0m\u001b[0mxy\u001b[0m\u001b[0;34m.\u001b[0m\u001b[0mclone\u001b[0m\u001b[0;34m(\u001b[0m\u001b[0;34m)\u001b[0m\u001b[0;34m,\u001b[0m \u001b[0mc\u001b[0m\u001b[0;34m[\u001b[0m\u001b[0mi\u001b[0m\u001b[0;34m]\u001b[0m\u001b[0;34m,\u001b[0m \u001b[0mc\u001b[0m\u001b[0;34m[\u001b[0m\u001b[0mi\u001b[0m\u001b[0;34m+\u001b[0m\u001b[0;36m1\u001b[0m\u001b[0;34m]\u001b[0m\u001b[0;34m)\u001b[0m\u001b[0;34m,\u001b[0m \u001b[0mprev_dist\u001b[0m\u001b[0;34m)\u001b[0m\u001b[0;34m\u001b[0m\u001b[0;34m\u001b[0m\u001b[0m\n\u001b[0m\u001b[1;32m      8\u001b[0m         \u001b[0mprev_dist\u001b[0m \u001b[0;34m=\u001b[0m \u001b[0mdist\u001b[0m\u001b[0;34m\u001b[0m\u001b[0;34m\u001b[0m\u001b[0m\n\u001b[1;32m      9\u001b[0m \u001b[0;31m#     dist = torch.exp(-dist * dist/(sigma**2))\u001b[0m\u001b[0;34m\u001b[0m\u001b[0;34m\u001b[0m\u001b[0;34m\u001b[0m\u001b[0m\n",
      "\u001b[0;32m/tmp/ipykernel_775469/2689289818.py\u001b[0m in \u001b[0;36mdist_to_line_2d\u001b[0;34m(xy, c1, c2)\u001b[0m\n\u001b[1;32m     13\u001b[0m     \u001b[0mclosest_dist\u001b[0m \u001b[0;34m=\u001b[0m \u001b[0mtorch\u001b[0m\u001b[0;34m.\u001b[0m\u001b[0mclamp\u001b[0m\u001b[0;34m(\u001b[0m\u001b[0mtorch\u001b[0m\u001b[0;34m.\u001b[0m\u001b[0mclamp\u001b[0m\u001b[0;34m(\u001b[0m\u001b[0mtorch\u001b[0m\u001b[0;34m.\u001b[0m\u001b[0msum\u001b[0m\u001b[0;34m(\u001b[0m\u001b[0mxy_c1\u001b[0m \u001b[0;34m*\u001b[0m \u001b[0mc12\u001b[0m\u001b[0;34m,\u001b[0m \u001b[0mdim\u001b[0m\u001b[0;34m=\u001b[0m\u001b[0;36m0\u001b[0m\u001b[0;34m)\u001b[0m\u001b[0;34m,\u001b[0m \u001b[0mmin\u001b[0m\u001b[0;34m=\u001b[0m\u001b[0;36m0\u001b[0m\u001b[0;34m)\u001b[0m\u001b[0;34m,\u001b[0m \u001b[0mmax\u001b[0m\u001b[0;34m=\u001b[0m\u001b[0mc12_length\u001b[0m\u001b[0;34m)\u001b[0m\u001b[0;34m\u001b[0m\u001b[0;34m\u001b[0m\u001b[0m\n\u001b[1;32m     14\u001b[0m     \u001b[0mclosest_pt\u001b[0m \u001b[0;34m=\u001b[0m \u001b[0mc1\u001b[0m\u001b[0;34m.\u001b[0m\u001b[0mreshape\u001b[0m\u001b[0;34m(\u001b[0m\u001b[0;36m2\u001b[0m\u001b[0;34m,\u001b[0m\u001b[0;36m1\u001b[0m\u001b[0;34m,\u001b[0m\u001b[0;36m1\u001b[0m\u001b[0;34m)\u001b[0m \u001b[0;34m+\u001b[0m \u001b[0mclosest_dist\u001b[0m \u001b[0;34m*\u001b[0m \u001b[0mc12\u001b[0m\u001b[0;34m\u001b[0m\u001b[0;34m\u001b[0m\u001b[0m\n\u001b[0;32m---> 15\u001b[0;31m     \u001b[0mdist\u001b[0m \u001b[0;34m=\u001b[0m \u001b[0mtorch\u001b[0m\u001b[0;34m.\u001b[0m\u001b[0mnorm\u001b[0m\u001b[0;34m(\u001b[0m\u001b[0mxy\u001b[0m \u001b[0;34m-\u001b[0m \u001b[0mclosest_pt\u001b[0m\u001b[0;34m,\u001b[0m \u001b[0mdim\u001b[0m \u001b[0;34m=\u001b[0m \u001b[0;36m0\u001b[0m\u001b[0;34m)\u001b[0m\u001b[0;34m\u001b[0m\u001b[0;34m\u001b[0m\u001b[0m\n\u001b[0m\u001b[1;32m     16\u001b[0m     \u001b[0;32mreturn\u001b[0m \u001b[0mdist\u001b[0m\u001b[0;34m\u001b[0m\u001b[0;34m\u001b[0m\u001b[0m\n",
      "\u001b[0;32m~/miniconda3/envs/dart_deform/lib/python3.7/site-packages/torch/functional.py\u001b[0m in \u001b[0;36mnorm\u001b[0;34m(input, p, dim, keepdim, out, dtype)\u001b[0m\n\u001b[1;32m   1440\u001b[0m                 \u001b[0m_dim\u001b[0m \u001b[0;34m=\u001b[0m \u001b[0mlist\u001b[0m\u001b[0;34m(\u001b[0m\u001b[0mrange\u001b[0m\u001b[0;34m(\u001b[0m\u001b[0mndim\u001b[0m\u001b[0;34m)\u001b[0m\u001b[0;34m)\u001b[0m\u001b[0;34m\u001b[0m\u001b[0;34m\u001b[0m\u001b[0m\n\u001b[1;32m   1441\u001b[0m             \u001b[0;32mif\u001b[0m \u001b[0mout\u001b[0m \u001b[0;32mis\u001b[0m \u001b[0;32mNone\u001b[0m\u001b[0;34m:\u001b[0m\u001b[0;34m\u001b[0m\u001b[0;34m\u001b[0m\u001b[0m\n\u001b[0;32m-> 1442\u001b[0;31m                 \u001b[0;32mreturn\u001b[0m \u001b[0m_VF\u001b[0m\u001b[0;34m.\u001b[0m\u001b[0mfrobenius_norm\u001b[0m\u001b[0;34m(\u001b[0m\u001b[0minput\u001b[0m\u001b[0;34m,\u001b[0m \u001b[0m_dim\u001b[0m\u001b[0;34m,\u001b[0m \u001b[0mkeepdim\u001b[0m\u001b[0;34m=\u001b[0m\u001b[0mkeepdim\u001b[0m\u001b[0;34m)\u001b[0m\u001b[0;34m\u001b[0m\u001b[0;34m\u001b[0m\u001b[0m\n\u001b[0m\u001b[1;32m   1443\u001b[0m             \u001b[0;32melse\u001b[0m\u001b[0;34m:\u001b[0m\u001b[0;34m\u001b[0m\u001b[0;34m\u001b[0m\u001b[0m\n\u001b[1;32m   1444\u001b[0m                 \u001b[0;32mreturn\u001b[0m \u001b[0m_VF\u001b[0m\u001b[0;34m.\u001b[0m\u001b[0mfrobenius_norm\u001b[0m\u001b[0;34m(\u001b[0m\u001b[0minput\u001b[0m\u001b[0;34m,\u001b[0m \u001b[0m_dim\u001b[0m\u001b[0;34m,\u001b[0m \u001b[0mkeepdim\u001b[0m\u001b[0;34m=\u001b[0m\u001b[0mkeepdim\u001b[0m\u001b[0;34m,\u001b[0m \u001b[0mout\u001b[0m\u001b[0;34m=\u001b[0m\u001b[0mout\u001b[0m\u001b[0;34m)\u001b[0m\u001b[0;34m\u001b[0m\u001b[0;34m\u001b[0m\u001b[0m\n",
      "\u001b[0;31mKeyboardInterrupt\u001b[0m: "
     ]
    }
   ],
   "source": [
    "H = 540\n",
    "W = 810\n",
    "simple_tracker = tracker(H, W)\n",
    "q = torch.zeros((38,))\n",
    "q[0] = 40\n",
    "simple_tracker.set_init(q)\n",
    "data_path = \"/home/yixuan/dart_deformable/data/rope_simple/\"\n",
    "for i in range(251):\n",
    "    rgb_np = exr_to_np(data_path+\"rgb_\"+'{0:03d}'.format(i)+\".exr\")\n",
    "    mask = rgb_np[:, :, 2] > 100\n",
    "    simple_tracker.set_obs(torch.tensor(mask), rgb_np)\n",
    "    simple_tracker.step()\n",
    "    simple_tracker.vis()"
   ]
  },
  {
   "cell_type": "code",
   "execution_count": 259,
   "id": "e6a998a5",
   "metadata": {},
   "outputs": [],
   "source": [
    "H = 540\n",
    "W = 810\n",
    "simple_tracker = tracker(H, W, cuda=True)"
   ]
  },
  {
   "cell_type": "code",
   "execution_count": 263,
   "id": "42a642ad",
   "metadata": {},
   "outputs": [],
   "source": [
    "q = torch.zeros((10,)).cuda()\n",
    "mask = torch.zeros((H, W), dtype=bool)\n",
    "mask[200:205, 200:300] = True\n",
    "simple_tracker.set_obs(mask)\n",
    "simple_tracker.set_init(q)\n",
    "J=jacobian(simple_tracker.dist_fn, q)\n",
    "dist=simple_tracker.dist_fn(q)"
   ]
  },
  {
   "cell_type": "code",
   "execution_count": 264,
   "id": "44a619fc",
   "metadata": {},
   "outputs": [
    {
     "data": {
      "text/plain": [
       "tensor([[  -84750.],\n",
       "        [ -168500.],\n",
       "        [-1685000.],\n",
       "        [-1685000.],\n",
       "        [-1685000.],\n",
       "        [-1685000.],\n",
       "        [-1685000.],\n",
       "        [-1685000.],\n",
       "        [-1685000.],\n",
       "        [-1685000.]], device='cuda:0')"
      ]
     },
     "execution_count": 264,
     "metadata": {},
     "output_type": "execute_result"
    }
   ],
   "source": [
    "torch.mm(J.t(), dist.unsqueeze(1))"
   ]
  },
  {
   "cell_type": "code",
   "execution_count": 265,
   "id": "6c670ebb",
   "metadata": {},
   "outputs": [
    {
     "name": "stdout",
     "output_type": "stream",
     "text": [
      "---- optimize translation ----\n",
      "loss: tensor(71567256., grad_fn=<SumBackward0>)\n",
      "tensor([ 169.5000,  337.0000, 3370.0002, 3370.0002, 3370.0002, 3370.0002,\n",
      "        3370.0002, 3370.0002, 3370.0002, 3370.0002], device='cuda:0')\n",
      "tensor([ -169500.,  -337000., -3370000., -3370000., -3370000., -3370000.,\n",
      "        -3370000., -3370000., -3370000., -3370000.], device='cuda:0')\n"
     ]
    },
    {
     "ename": "KeyboardInterrupt",
     "evalue": "Interrupted by user",
     "output_type": "error",
     "traceback": [
      "\u001b[0;31m---------------------------------------------------------------------------\u001b[0m",
      "\u001b[0;31mKeyboardInterrupt\u001b[0m                         Traceback (most recent call last)",
      "\u001b[0;32m/tmp/ipykernel_775469/573617552.py\u001b[0m in \u001b[0;36m<module>\u001b[0;34m\u001b[0m\n\u001b[0;32m----> 1\u001b[0;31m \u001b[0msimple_tracker\u001b[0m\u001b[0;34m.\u001b[0m\u001b[0mstep\u001b[0m\u001b[0;34m(\u001b[0m\u001b[0;34m)\u001b[0m\u001b[0;34m\u001b[0m\u001b[0;34m\u001b[0m\u001b[0m\n\u001b[0m",
      "\u001b[0;32m/tmp/ipykernel_775469/2696185433.py\u001b[0m in \u001b[0;36mstep\u001b[0;34m(self)\u001b[0m\n\u001b[1;32m     59\u001b[0m             \u001b[0mprint\u001b[0m\u001b[0;34m(\u001b[0m\u001b[0mself\u001b[0m\u001b[0;34m.\u001b[0m\u001b[0mq\u001b[0m\u001b[0;34m)\u001b[0m\u001b[0;34m\u001b[0m\u001b[0;34m\u001b[0m\u001b[0m\n\u001b[1;32m     60\u001b[0m             \u001b[0mprint\u001b[0m\u001b[0;34m(\u001b[0m\u001b[0mgrad\u001b[0m\u001b[0;34m)\u001b[0m\u001b[0;34m\u001b[0m\u001b[0;34m\u001b[0m\u001b[0m\n\u001b[0;32m---> 61\u001b[0;31m             \u001b[0minput\u001b[0m\u001b[0;34m(\u001b[0m\u001b[0;34m)\u001b[0m\u001b[0;34m\u001b[0m\u001b[0;34m\u001b[0m\u001b[0m\n\u001b[0m\u001b[1;32m     62\u001b[0m             \u001b[0mchanged\u001b[0m \u001b[0;34m=\u001b[0m \u001b[0;32mTrue\u001b[0m\u001b[0;34m\u001b[0m\u001b[0;34m\u001b[0m\u001b[0m\n\u001b[1;32m     63\u001b[0m             \u001b[0mstep\u001b[0m \u001b[0;34m+=\u001b[0m \u001b[0;36m1\u001b[0m\u001b[0;34m\u001b[0m\u001b[0;34m\u001b[0m\u001b[0m\n",
      "\u001b[0;32m~/miniconda3/envs/dart_deform/lib/python3.7/site-packages/ipykernel/kernelbase.py\u001b[0m in \u001b[0;36mraw_input\u001b[0;34m(self, prompt)\u001b[0m\n\u001b[1;32m   1009\u001b[0m             \u001b[0mself\u001b[0m\u001b[0;34m.\u001b[0m\u001b[0m_parent_ident\u001b[0m\u001b[0;34m[\u001b[0m\u001b[0;34m\"shell\"\u001b[0m\u001b[0;34m]\u001b[0m\u001b[0;34m,\u001b[0m\u001b[0;34m\u001b[0m\u001b[0;34m\u001b[0m\u001b[0m\n\u001b[1;32m   1010\u001b[0m             \u001b[0mself\u001b[0m\u001b[0;34m.\u001b[0m\u001b[0mget_parent\u001b[0m\u001b[0;34m(\u001b[0m\u001b[0;34m\"shell\"\u001b[0m\u001b[0;34m)\u001b[0m\u001b[0;34m,\u001b[0m\u001b[0;34m\u001b[0m\u001b[0;34m\u001b[0m\u001b[0m\n\u001b[0;32m-> 1011\u001b[0;31m             \u001b[0mpassword\u001b[0m\u001b[0;34m=\u001b[0m\u001b[0;32mFalse\u001b[0m\u001b[0;34m,\u001b[0m\u001b[0;34m\u001b[0m\u001b[0;34m\u001b[0m\u001b[0m\n\u001b[0m\u001b[1;32m   1012\u001b[0m         )\n\u001b[1;32m   1013\u001b[0m \u001b[0;34m\u001b[0m\u001b[0m\n",
      "\u001b[0;32m~/miniconda3/envs/dart_deform/lib/python3.7/site-packages/ipykernel/kernelbase.py\u001b[0m in \u001b[0;36m_input_request\u001b[0;34m(self, prompt, ident, parent, password)\u001b[0m\n\u001b[1;32m   1050\u001b[0m             \u001b[0;32mexcept\u001b[0m \u001b[0mKeyboardInterrupt\u001b[0m\u001b[0;34m:\u001b[0m\u001b[0;34m\u001b[0m\u001b[0;34m\u001b[0m\u001b[0m\n\u001b[1;32m   1051\u001b[0m                 \u001b[0;31m# re-raise KeyboardInterrupt, to truncate traceback\u001b[0m\u001b[0;34m\u001b[0m\u001b[0;34m\u001b[0m\u001b[0;34m\u001b[0m\u001b[0m\n\u001b[0;32m-> 1052\u001b[0;31m                 \u001b[0;32mraise\u001b[0m \u001b[0mKeyboardInterrupt\u001b[0m\u001b[0;34m(\u001b[0m\u001b[0;34m\"Interrupted by user\"\u001b[0m\u001b[0;34m)\u001b[0m \u001b[0;32mfrom\u001b[0m \u001b[0;32mNone\u001b[0m\u001b[0;34m\u001b[0m\u001b[0;34m\u001b[0m\u001b[0m\n\u001b[0m\u001b[1;32m   1053\u001b[0m             \u001b[0;32mexcept\u001b[0m \u001b[0mException\u001b[0m\u001b[0;34m:\u001b[0m\u001b[0;34m\u001b[0m\u001b[0;34m\u001b[0m\u001b[0m\n\u001b[1;32m   1054\u001b[0m                 \u001b[0mself\u001b[0m\u001b[0;34m.\u001b[0m\u001b[0mlog\u001b[0m\u001b[0;34m.\u001b[0m\u001b[0mwarning\u001b[0m\u001b[0;34m(\u001b[0m\u001b[0;34m\"Invalid Message:\"\u001b[0m\u001b[0;34m,\u001b[0m \u001b[0mexc_info\u001b[0m\u001b[0;34m=\u001b[0m\u001b[0;32mTrue\u001b[0m\u001b[0;34m)\u001b[0m\u001b[0;34m\u001b[0m\u001b[0;34m\u001b[0m\u001b[0m\n",
      "\u001b[0;31mKeyboardInterrupt\u001b[0m: Interrupted by user"
     ]
    }
   ],
   "source": [
    "simple_tracker.step()"
   ]
  },
  {
   "cell_type": "code",
   "execution_count": 228,
   "id": "3be73a0e",
   "metadata": {},
   "outputs": [
    {
     "name": "stdout",
     "output_type": "stream",
     "text": [
      "tensor([[200, 238],\n",
      "        [201, 296],\n",
      "        [203, 244],\n",
      "        [201, 293],\n",
      "        [203, 231],\n",
      "        [203, 219],\n",
      "        [202, 209],\n",
      "        [204, 284],\n",
      "        [202, 238],\n",
      "        [200, 208],\n",
      "        [201, 209],\n",
      "        [204, 210],\n",
      "        [202, 243],\n",
      "        [204, 221],\n",
      "        [200, 208],\n",
      "        [204, 289],\n",
      "        [203, 209],\n",
      "        [201, 263],\n",
      "        [203, 265],\n",
      "        [201, 250],\n",
      "        [204, 232],\n",
      "        [201, 228],\n",
      "        [202, 243],\n",
      "        [204, 200],\n",
      "        [200, 226],\n",
      "        [201, 270],\n",
      "        [203, 202],\n",
      "        [203, 275],\n",
      "        [201, 213],\n",
      "        [200, 220],\n",
      "        [201, 239],\n",
      "        [203, 259],\n",
      "        [200, 243],\n",
      "        [203, 268],\n",
      "        [200, 257],\n",
      "        [204, 282],\n",
      "        [200, 229],\n",
      "        [202, 270],\n",
      "        [203, 235],\n",
      "        [201, 289],\n",
      "        [200, 284],\n",
      "        [203, 281],\n",
      "        [204, 275],\n",
      "        [201, 222],\n",
      "        [201, 290],\n",
      "        [200, 229],\n",
      "        [200, 288],\n",
      "        [201, 200],\n",
      "        [200, 287],\n",
      "        [201, 297],\n",
      "        [203, 284],\n",
      "        [203, 285],\n",
      "        [200, 262],\n",
      "        [200, 267],\n",
      "        [201, 219],\n",
      "        [200, 238],\n",
      "        [202, 248],\n",
      "        [202, 221],\n",
      "        [200, 216],\n",
      "        [203, 208],\n",
      "        [204, 286],\n",
      "        [202, 284],\n",
      "        [201, 257],\n",
      "        [204, 215],\n",
      "        [200, 202],\n",
      "        [200, 201],\n",
      "        [202, 271],\n",
      "        [200, 242],\n",
      "        [200, 226],\n",
      "        [201, 215],\n",
      "        [202, 247],\n",
      "        [204, 293],\n",
      "        [203, 248],\n",
      "        [200, 228],\n",
      "        [200, 240],\n",
      "        [201, 247],\n",
      "        [204, 223],\n",
      "        [200, 292],\n",
      "        [200, 234],\n",
      "        [202, 267],\n",
      "        [203, 285],\n",
      "        [201, 270],\n",
      "        [202, 215],\n",
      "        [202, 282],\n",
      "        [203, 276],\n",
      "        [202, 284],\n",
      "        [200, 253],\n",
      "        [200, 248],\n",
      "        [202, 291],\n",
      "        [202, 276],\n",
      "        [204, 287],\n",
      "        [201, 215],\n",
      "        [204, 235],\n",
      "        [200, 290],\n",
      "        [203, 279],\n",
      "        [203, 234],\n",
      "        [204, 207],\n",
      "        [204, 219],\n",
      "        [202, 245],\n",
      "        [202, 274]])\n"
     ]
    }
   ],
   "source": [
    "mask = torch.zeros((H, W), dtype=bool)\n",
    "mask[200:205, 200:300] = True\n",
    "N = mask.nonzero().shape[0]\n",
    "n = 100\n",
    "rand_idx = np.random.choice(N, n)\n",
    "sub = torch.zeros_like(mask)\n",
    "print(mask.nonzero()[rand_idx])\n",
    "sub[mask.nonzero()[rand_idx][:, 0], mask.nonzero()[rand_idx][:, 1]] = True"
   ]
  },
  {
   "cell_type": "code",
   "execution_count": 229,
   "id": "cf9a636d",
   "metadata": {},
   "outputs": [
    {
     "data": {
      "text/plain": [
       "tensor(91)"
      ]
     },
     "execution_count": 229,
     "metadata": {},
     "output_type": "execute_result"
    }
   ],
   "source": [
    "sub.sum()"
   ]
  },
  {
   "cell_type": "code",
   "execution_count": 204,
   "id": "8b49f2f0",
   "metadata": {},
   "outputs": [
    {
     "data": {
      "text/plain": [
       "tensor([[200,   0],\n",
       "        [200,   1],\n",
       "        [200,   2],\n",
       "        ...,\n",
       "        [299, 807],\n",
       "        [299, 808],\n",
       "        [299, 809]])"
      ]
     },
     "execution_count": 204,
     "metadata": {},
     "output_type": "execute_result"
    }
   ],
   "source": [
    "sub.nonzero()"
   ]
  },
  {
   "cell_type": "code",
   "execution_count": 206,
   "id": "b6184918",
   "metadata": {},
   "outputs": [
    {
     "ename": "IndexError",
     "evalue": "too many indices for array: array is 1-dimensional, but 2 were indexed",
     "output_type": "error",
     "traceback": [
      "\u001b[0;31m---------------------------------------------------------------------------\u001b[0m",
      "\u001b[0;31mIndexError\u001b[0m                                Traceback (most recent call last)",
      "\u001b[0;32m/tmp/ipykernel_775469/1788101914.py\u001b[0m in \u001b[0;36m<module>\u001b[0;34m\u001b[0m\n\u001b[0;32m----> 1\u001b[0;31m \u001b[0mmask\u001b[0m\u001b[0;34m.\u001b[0m\u001b[0mnonzero\u001b[0m\u001b[0;34m(\u001b[0m\u001b[0;34m)\u001b[0m\u001b[0;34m[\u001b[0m\u001b[0mrand_idx\u001b[0m\u001b[0;34m[\u001b[0m\u001b[0;34m:\u001b[0m\u001b[0;34m,\u001b[0m \u001b[0;36m0\u001b[0m\u001b[0;34m]\u001b[0m\u001b[0;34m,\u001b[0m \u001b[0mrand_idx\u001b[0m\u001b[0;34m[\u001b[0m\u001b[0;34m:\u001b[0m\u001b[0;34m,\u001b[0m \u001b[0;36m1\u001b[0m\u001b[0;34m]\u001b[0m\u001b[0;34m]\u001b[0m\u001b[0;34m\u001b[0m\u001b[0;34m\u001b[0m\u001b[0m\n\u001b[0m",
      "\u001b[0;31mIndexError\u001b[0m: too many indices for array: array is 1-dimensional, but 2 were indexed"
     ]
    }
   ],
   "source": [
    "mask.nonzero()[rand_idx[:, 0], rand_idx[:, 1]]"
   ]
  },
  {
   "cell_type": "code",
   "execution_count": 212,
   "id": "bc0238cd",
   "metadata": {},
   "outputs": [
    {
     "data": {
      "text/plain": [
       "torch.Size([100, 810])"
      ]
     },
     "execution_count": 212,
     "metadata": {},
     "output_type": "execute_result"
    }
   ],
   "source": [
    "torch.index_select(mask, 0, mask.nonzero()[rand_idx][:, 0]).shape"
   ]
  },
  {
   "cell_type": "code",
   "execution_count": 210,
   "id": "0ebe67df",
   "metadata": {},
   "outputs": [
    {
     "data": {
      "text/plain": [
       "array([445, 416, 425, 157, 350, 461, 222, 250, 463, 320,   9,  81, 119,\n",
       "       440, 493,  56,  49, 140, 384, 204, 333, 285, 158, 115, 299, 255,\n",
       "        20, 240, 231, 372,  29, 188, 324, 376, 230, 184, 361,  37, 181,\n",
       "       434, 351, 414, 191, 339, 182,   8, 342, 284, 336, 104, 262,   0,\n",
       "       327, 285, 476, 184,  72, 162,  81, 243, 455, 202, 316, 332,  11,\n",
       "       156,  68, 370,  22, 242, 371,   1, 349, 456, 499, 126,   7,  81,\n",
       "       184, 295, 150, 371,  57, 365,  29, 281, 451, 417, 170, 400, 402,\n",
       "       373,  42, 242, 110, 410, 215, 466, 363, 271])"
      ]
     },
     "execution_count": 210,
     "metadata": {},
     "output_type": "execute_result"
    }
   ],
   "source": [
    "rand_idx"
   ]
  },
  {
   "cell_type": "code",
   "execution_count": 214,
   "id": "b2c2f91b",
   "metadata": {},
   "outputs": [
    {
     "data": {
      "text/plain": [
       "tensor([False, False])"
      ]
     },
     "execution_count": 214,
     "metadata": {},
     "output_type": "execute_result"
    }
   ],
   "source": [
    "sub[[1, 2], [2, 2]]"
   ]
  },
  {
   "cell_type": "code",
   "execution_count": null,
   "id": "f09aa9fb",
   "metadata": {},
   "outputs": [],
   "source": []
  }
 ],
 "metadata": {
  "kernelspec": {
   "display_name": "Python 3 (ipykernel)",
   "language": "python",
   "name": "python3"
  },
  "language_info": {
   "codemirror_mode": {
    "name": "ipython",
    "version": 3
   },
   "file_extension": ".py",
   "mimetype": "text/x-python",
   "name": "python",
   "nbconvert_exporter": "python",
   "pygments_lexer": "ipython3",
   "version": "3.7.11"
  }
 },
 "nbformat": 4,
 "nbformat_minor": 5
}
